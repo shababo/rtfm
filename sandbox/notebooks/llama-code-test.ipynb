{
 "cells": [
  {
   "cell_type": "code",
   "execution_count": 1,
   "metadata": {},
   "outputs": [],
   "source": [
    "import os\n",
    "from dotenv import load_dotenv\n",
    "\n",
    "load_dotenv()\n",
    "\n",
    "from llama_index.tools.code_interpreter import CodeInterpreterToolSpec\n",
    "from llama_index.agent.openai import OpenAIAgent"
   ]
  },
  {
   "cell_type": "code",
   "execution_count": 2,
   "metadata": {},
   "outputs": [],
   "source": [
    "code_spec = CodeInterpreterToolSpec()"
   ]
  },
  {
   "cell_type": "code",
   "execution_count": 3,
   "metadata": {},
   "outputs": [],
   "source": [
    "agent = OpenAIAgent.from_tools(code_spec.to_tool_list())"
   ]
  },
  {
   "cell_type": "code",
   "execution_count": 5,
   "metadata": {},
   "outputs": [],
   "source": [
    "# Prime the agent to use the tool\n",
    "agent.chat(\n",
    "    \"Can you help me write some python code to pass to the code_interpreter tool\"\n",
    ")\n",
    "response = agent.chat(\n",
    "    \"write a python function to calculate volume of a sphere with radius 4.3cm\"\n",
    ")"
   ]
  },
  {
   "cell_type": "code",
   "execution_count": 6,
   "metadata": {},
   "outputs": [
    {
     "name": "stdout",
     "output_type": "stream",
     "text": [
      "Here is a Python function that calculates the volume of a sphere with a radius of 4.3 cm:\n",
      "\n",
      "```python\n",
      "import math\n",
      "\n",
      "def calculate_sphere_volume(radius):\n",
      "    volume = (4/3) * math.pi * radius**3\n",
      "    return volume\n",
      "\n",
      "radius = 4.3\n",
      "volume = calculate_sphere_volume(radius)\n",
      "print(volume)\n",
      "``` \n",
      "\n",
      "You can pass this code to the `code_interpreter` tool for execution. Let me know if you need any further assistance.\n"
     ]
    }
   ],
   "source": [
    "print(response)"
   ]
  },
  {
   "cell_type": "code",
   "execution_count": null,
   "metadata": {},
   "outputs": [],
   "source": []
  }
 ],
 "metadata": {
  "kernelspec": {
   "display_name": ".venv",
   "language": "python",
   "name": "python3"
  },
  "language_info": {
   "codemirror_mode": {
    "name": "ipython",
    "version": 3
   },
   "file_extension": ".py",
   "mimetype": "text/x-python",
   "name": "python",
   "nbconvert_exporter": "python",
   "pygments_lexer": "ipython3",
   "version": "3.12.5"
  }
 },
 "nbformat": 4,
 "nbformat_minor": 2
}
