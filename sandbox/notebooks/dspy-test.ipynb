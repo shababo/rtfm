{
 "cells": [
  {
   "cell_type": "code",
   "execution_count": 1,
   "metadata": {},
   "outputs": [],
   "source": [
    "%load_ext autoreload\n",
    "%autoreload 2"
   ]
  },
  {
   "cell_type": "code",
   "execution_count": 62,
   "metadata": {},
   "outputs": [],
   "source": [
    "import os\n",
    "\n",
    "from dotenv import load_dotenv\n",
    "load_dotenv()\n",
    "\n",
    "from llama_index.core import (\n",
    "    SimpleDirectoryReader, \n",
    "    VectorStoreIndex, \n",
    "    load_index_from_storage,\n",
    "    StorageContext,\n",
    ")\n",
    "from llama_parse import LlamaParse\n",
    "from llama_index.core import Settings\n",
    "from llama_index.core.node_parser import SentenceSplitter\n",
    "from llama_index.core.query_pipeline import QueryPipeline as QP, InputComponent, FnComponent\n",
    "from llama_index.core.tools import QueryEngineTool, ToolMetadata\n",
    "\n",
    "from llama_index.llms.openai import OpenAI\n",
    "from llama_index.embeddings.openai import OpenAIEmbedding\n",
    "from llama_index.llms.anthropic import Anthropic\n",
    "from llama_index.core.node_parser import SentenceSplitter\n",
    "from llama_index.agent.openai import OpenAIAgent\n",
    "from llama_index.core.objects import ObjectIndex\n",
    "from llama_index.packs.agents_coa import CoAAgentPack\n",
    "from llama_index.tools.code_interpreter.base import CodeInterpreterToolSpec# from llama_index.core.agent import FunctionCallingAgent\n",
    "from llama_index.core.agent import ReActAgent, StructuredPlannerAgent, FunctionCallingAgentWorker\n",
    "\n",
    "import dspy\n",
    "from dspy.predict.llamaindex import DSPyComponent, LlamaIndexModule"
   ]
  },
  {
   "cell_type": "code",
   "execution_count": 2,
   "metadata": {},
   "outputs": [
    {
     "name": "stderr",
     "output_type": "stream",
     "text": [
      "/Users/loyalshababo/dev/rtfm/.venv/lib/python3.12/site-packages/tqdm/auto.py:21: TqdmWarning: IProgress not found. Please update jupyter and ipywidgets. See https://ipywidgets.readthedocs.io/en/stable/user_install.html\n",
      "  from .autonotebook import tqdm as notebook_tqdm\n"
     ]
    }
   ],
   "source": [
    "turbo = dspy.OpenAI(model='gpt-4o')\n",
    "dspy.settings.configure(lm=turbo)"
   ]
  },
  {
   "cell_type": "code",
   "execution_count": 46,
   "metadata": {},
   "outputs": [],
   "source": [
    "class GenerateAnswer(dspy.Signature):\n",
    "    \"\"\"Answer questions about formatting USB commands to the DLPC900.\"\"\"\n",
    "\n",
    "    context = dspy.InputField(desc=\"Relevant sections of the DLPC900 Programmer's guide.\")\n",
    "    question = dspy.InputField()\n",
    "    answer = dspy.OutputField(desc=f\"\"\"A command to communicate with the device over USB. \\\n",
    "                              The command should be returned as a Python list of bit strings. \\\n",
    "                              \n",
    "                              Be sure to include and label all parts of the command including the header as specified in Section 1.2 of the Programmer's guide.\"\"\")\n",
    "    \n",
    "    #                               The `response` you provide will be taken as given as put directly used as follows `dev.write(end_point, response)`. \\"
   ]
  },
  {
   "cell_type": "code",
   "execution_count": 8,
   "metadata": {},
   "outputs": [],
   "source": [
    "# set up parser\n",
    "parser = LlamaParse(\n",
    "    result_type=\"markdown\",  # \"markdown\" and \"text\" are available\n",
    "    use_vendor_multimodal_model=True,\n",
    "    vendor_multimodal_model_name=\"anthropic-sonnet-3.5\"\n",
    ")"
   ]
  },
  {
   "cell_type": "code",
   "execution_count": 9,
   "metadata": {},
   "outputs": [
    {
     "name": "stdout",
     "output_type": "stream",
     "text": [
      "Building agent for document dlpu018j\n"
     ]
    }
   ],
   "source": [
    "node_parser = SentenceSplitter()\n",
    "\n",
    "dlpc9000_docs_dirpath = \"../../manuals/dmd\"\n",
    "persist_dir_root = \"./storage/dlpc9000\"\n",
    "doc_name = 'dlpu018j'\n",
    "doc_path = os.path.join(dlpc9000_docs_dirpath, \"*.pdf\")\n",
    "if not os.path.exists(persist_dir_root):\n",
    "    os.makedirs(persist_dir_root)\n",
    "\n",
    "\n",
    "\n",
    "print(f\"Building agent for document {doc_name}\")\n",
    "\n",
    "\n",
    "doc_persist_dir = os.path.join(persist_dir_root, doc_name)\n",
    "if not os.path.exists(doc_persist_dir):\n",
    "    # build vector index\n",
    "    file_extractor = {\".pdf\": parser, \".html\": parser}\n",
    "    doc = SimpleDirectoryReader(input_files=[doc_path], file_extractor=file_extractor).load_data()\n",
    "    # vector_index = VectorStoreIndex(doc)\n",
    "    nodes = node_parser.get_nodes_from_documents(doc)\n",
    "    vector_index = VectorStoreIndex(nodes)\n",
    "    vector_index.storage_context.persist(\n",
    "        persist_dir=doc_persist_dir\n",
    "    )\n",
    "else:\n",
    "    vector_index = load_index_from_storage(\n",
    "        StorageContext.from_defaults(persist_dir=doc_persist_dir),\n",
    "    )"
   ]
  },
  {
   "cell_type": "code",
   "execution_count": 64,
   "metadata": {},
   "outputs": [],
   "source": [
    "Settings.llm = Anthropic(model='claude-3-5-sonnet-20240620')\n",
    "Settings.embed_model = OpenAIEmbedding(model=\"text-embedding-ada-002\")"
   ]
  },
  {
   "cell_type": "code",
   "execution_count": 65,
   "metadata": {},
   "outputs": [],
   "source": [
    "vector_query_engine = vector_index.as_query_engine(llm=Settings.llm, similarity_top_k=10)\n",
    "# summary_query_engine = summary_index.as_query_engine(llm=Settings.llm)\n",
    "\n",
    "# define tools\n",
    "query_engine_tools = [\n",
    "    QueryEngineTool(\n",
    "        query_engine=vector_query_engine,\n",
    "        metadata=ToolMetadata(\n",
    "            name=\"vector_tool\",\n",
    "            description=\"This tool can query the DLPC900 (aka DLPC9000EVM) Programmer's Guide which contains information about communicating with the board and specifyihng.\",\n",
    "        ),\n",
    "    ),\n",
    "    # QueryEngineTool(\n",
    "    #     query_engine=summary_query_engine,\n",
    "    #     metadata=ToolMetadata(\n",
    "    #         name=\"summary_tool\",\n",
    "    #         description=summary_query_engine.query(\"Summarize this document so a tool built upon it knows how to use it.\").response,\n",
    "    #     ),\n",
    "    # ),\n",
    "]\n",
    "\n",
    "# build agent\n",
    "function_llm = Anthropic(model=\"claude-3-5-sonnet-20240620\")\n",
    "agent = FunctionCallingAgentWorker.from_tools(\n",
    "    query_engine_tools + CodeInterpreterToolSpec().to_tool_list(),\n",
    "    llm=function_llm,\n",
    "    verbose=True,\n",
    "    # system_prompt=f\"\"\"\\\n",
    "    #             This tools has access to information about communicating with the DLPC900 (aka DLPC9000EVM) board over serial USB. \\\n",
    "    #             It can go through this document and understand how to format read and write commands to the board. \\\n",
    "    #             It can answer questions about how to format serial commands for different board commands. \\\n",
    "    #             It can can also answer questions going in the other direction, given a board command, it will provide the serial command. \\\n",
    "    #             Remember to always reference Section 1.2 when giving an answer since this explains how to format USB commands. \\\n",
    "    #             When you give an answer, please report what tables you used to get information. \\\n",
    "    #             Be careful, it also contains I2C commands in the same tables. \\\n",
    "    #             \"\"\",\n",
    ")"
   ]
  },
  {
   "cell_type": "code",
   "execution_count": 47,
   "metadata": {},
   "outputs": [],
   "source": [
    "class DLPC900CommandFormatter(dspy.Module):\n",
    "    def __init__(self, dlpc_programmer_manual_agent):\n",
    "        super().__init__()\n",
    "        self.manual_agent = dlpc_programmer_manual_agent\n",
    "        self.generate_answer = dspy.Predict(GenerateAnswer)\n",
    "\n",
    "\n",
    "    def forward(self, question):\n",
    "        response = self.query_engine.query(question)\n",
    "        context = response.response\n",
    "        prediction = self.generate_answer(context=context, question=question)\n",
    "        return dspy.Prediction(context=context, answer=prediction.answer)"
   ]
  },
  {
   "cell_type": "code",
   "execution_count": 48,
   "metadata": {},
   "outputs": [],
   "source": [
    "rag_module = RAG(vector_index.as_query_engine(similarity_top_k=5))"
   ]
  },
  {
   "cell_type": "code",
   "execution_count": 49,
   "metadata": {},
   "outputs": [
    {
     "name": "stdout",
     "output_type": "stream",
     "text": [
      "Question: What command should I send over USB to turn idle mode off?\n",
      "Predicted Answer: Context: To turn off Idle Mode, you should send the command 0x0201 over USB.\n",
      "Question: What command should I send over USB to turn idle mode off?\n",
      "Answer: A command to communicate with the device over USB. Be sure to include and label all parts of the command including the header as specified in Section 1.2 of the Programmer's guide.\n",
      "\n",
      "Header:\n",
      "- Command: 0x02 (2 bytes)\n",
      "- Sub-command: 0x01 (2 bytes)\n",
      "\n",
      "Complete USB Command:\n",
      "```\n",
      "0x02 0x01\n",
      "```\n"
     ]
    }
   ],
   "source": [
    "question = \"What command should I send over USB to turn idle mode off?\"\n",
    "pred = rag_module(question)\n",
    "print(f\"Question: {question}\")\n",
    "print(f\"Predicted Answer: {pred.answer}\")"
   ]
  },
  {
   "cell_type": "code",
   "execution_count": 50,
   "metadata": {},
   "outputs": [],
   "source": [
    "dspy_module = dspy.ChainOfThought(GenerateAnswer)"
   ]
  },
  {
   "cell_type": "code",
   "execution_count": 51,
   "metadata": {},
   "outputs": [
    {
     "name": "stdout",
     "output_type": "stream",
     "text": [
      "Question: What command should I send over USB to turn idle mode off?\n",
      "Predicted Answer: Context: To turn off Idle Mode, you should send the command 0x8D over USB.\n",
      "Question: What command should I send over USB to turn idle mode off?\n",
      "Answer: A command to communicate with the device over USB. Be sure to include and label all parts of the command including the header as specified in Section 1.2 of the Programmer's guide.\n",
      "\n",
      "Header:\n",
      "- Command: 0x1A (assuming 0x1A is the command header for sending commands)\n",
      "- Length: 0x01 (length of the payload, which is 1 byte in this case)\n",
      "- Reserved: 0x00 (reserved byte, typically set to 0)\n",
      "\n",
      "Payload:\n",
      "- Command: 0x8D\n"
     ]
    }
   ],
   "source": [
    "question = \"What command should I send over USB to turn idle mode off?\"\n",
    "pred = rag_module(question)\n",
    "print(f\"Question: {question}\")\n",
    "print(f\"Predicted Answer: {pred.answer}\")"
   ]
  },
  {
   "cell_type": "code",
   "execution_count": 16,
   "metadata": {},
   "outputs": [
    {
     "ename": "AttributeError",
     "evalue": "'ChainOfThought' object has no attribute 'sub_query_components'",
     "output_type": "error",
     "traceback": [
      "\u001b[0;31m---------------------------------------------------------------------------\u001b[0m",
      "\u001b[0;31mAttributeError\u001b[0m                            Traceback (most recent call last)",
      "Cell \u001b[0;32mIn[16], line 8\u001b[0m\n\u001b[1;32m      3\u001b[0m retriever_post \u001b[38;5;241m=\u001b[39m FnComponent(\n\u001b[1;32m      4\u001b[0m     \u001b[38;5;28;01mlambda\u001b[39;00m contexts: \u001b[38;5;124m\"\u001b[39m\u001b[38;5;130;01m\\n\u001b[39;00m\u001b[38;5;130;01m\\n\u001b[39;00m\u001b[38;5;124m\"\u001b[39m\u001b[38;5;241m.\u001b[39mjoin([n\u001b[38;5;241m.\u001b[39mget_content() \u001b[38;5;28;01mfor\u001b[39;00m n \u001b[38;5;129;01min\u001b[39;00m contexts])\n\u001b[1;32m      5\u001b[0m )\n\u001b[1;32m      7\u001b[0m p \u001b[38;5;241m=\u001b[39m QP(verbose\u001b[38;5;241m=\u001b[39m\u001b[38;5;28;01mTrue\u001b[39;00m)\n\u001b[0;32m----> 8\u001b[0m \u001b[43mp\u001b[49m\u001b[38;5;241;43m.\u001b[39;49m\u001b[43madd_modules\u001b[49m\u001b[43m(\u001b[49m\n\u001b[1;32m      9\u001b[0m \u001b[43m    \u001b[49m\u001b[43m{\u001b[49m\n\u001b[1;32m     10\u001b[0m \u001b[43m        \u001b[49m\u001b[38;5;124;43m\"\u001b[39;49m\u001b[38;5;124;43minput\u001b[39;49m\u001b[38;5;124;43m\"\u001b[39;49m\u001b[43m:\u001b[49m\u001b[43m \u001b[49m\u001b[43mInputComponent\u001b[49m\u001b[43m(\u001b[49m\u001b[43m)\u001b[49m\u001b[43m,\u001b[49m\n\u001b[1;32m     11\u001b[0m \u001b[43m        \u001b[49m\u001b[38;5;124;43m\"\u001b[39;49m\u001b[38;5;124;43mretriever\u001b[39;49m\u001b[38;5;124;43m\"\u001b[39;49m\u001b[43m:\u001b[49m\u001b[43m \u001b[49m\u001b[43mretriever\u001b[49m\u001b[43m,\u001b[49m\n\u001b[1;32m     12\u001b[0m \u001b[43m        \u001b[49m\u001b[38;5;124;43m\"\u001b[39;49m\u001b[38;5;124;43mretriever_post\u001b[39;49m\u001b[38;5;124;43m\"\u001b[39;49m\u001b[43m:\u001b[49m\u001b[43m \u001b[49m\u001b[43mretriever_post\u001b[49m\u001b[43m,\u001b[49m\n\u001b[1;32m     13\u001b[0m \u001b[43m        \u001b[49m\u001b[38;5;124;43m\"\u001b[39;49m\u001b[38;5;124;43msynthesizer\u001b[39;49m\u001b[38;5;124;43m\"\u001b[39;49m\u001b[43m:\u001b[49m\u001b[43m \u001b[49m\u001b[43mdspy_module\u001b[49m\u001b[43m,\u001b[49m\n\u001b[1;32m     14\u001b[0m \u001b[43m    \u001b[49m\u001b[43m}\u001b[49m\n\u001b[1;32m     15\u001b[0m \u001b[43m)\u001b[49m\n\u001b[1;32m     16\u001b[0m p\u001b[38;5;241m.\u001b[39madd_link(\u001b[38;5;124m\"\u001b[39m\u001b[38;5;124minput\u001b[39m\u001b[38;5;124m\"\u001b[39m, \u001b[38;5;124m\"\u001b[39m\u001b[38;5;124mretriever\u001b[39m\u001b[38;5;124m\"\u001b[39m)\n\u001b[1;32m     17\u001b[0m p\u001b[38;5;241m.\u001b[39madd_link(\u001b[38;5;124m\"\u001b[39m\u001b[38;5;124mretriever\u001b[39m\u001b[38;5;124m\"\u001b[39m, \u001b[38;5;124m\"\u001b[39m\u001b[38;5;124mretriever_post\u001b[39m\u001b[38;5;124m\"\u001b[39m)\n",
      "File \u001b[0;32m~/dev/rtfm/.venv/lib/python3.12/site-packages/llama_index/core/query_pipeline/query.py:326\u001b[0m, in \u001b[0;36mQueryPipeline.add_modules\u001b[0;34m(self, module_dict)\u001b[0m\n\u001b[1;32m    324\u001b[0m \u001b[38;5;250m\u001b[39m\u001b[38;5;124;03m\"\"\"Add modules to the pipeline.\"\"\"\u001b[39;00m\n\u001b[1;32m    325\u001b[0m \u001b[38;5;28;01mfor\u001b[39;00m module_key, module \u001b[38;5;129;01min\u001b[39;00m module_dict\u001b[38;5;241m.\u001b[39mitems():\n\u001b[0;32m--> 326\u001b[0m     \u001b[38;5;28;43mself\u001b[39;49m\u001b[38;5;241;43m.\u001b[39;49m\u001b[43madd\u001b[49m\u001b[43m(\u001b[49m\u001b[43mmodule_key\u001b[49m\u001b[43m,\u001b[49m\u001b[43m \u001b[49m\u001b[43mmodule\u001b[49m\u001b[43m)\u001b[49m\n",
      "File \u001b[0;32m~/dev/rtfm/.venv/lib/python3.12/site-packages/llama_index/core/query_pipeline/query.py:343\u001b[0m, in \u001b[0;36mQueryPipeline.add\u001b[0;34m(self, module_key, module)\u001b[0m\n\u001b[1;32m    340\u001b[0m \u001b[38;5;28mself\u001b[39m\u001b[38;5;241m.\u001b[39mdag\u001b[38;5;241m.\u001b[39madd_node(module_key)\n\u001b[1;32m    341\u001b[0m \u001b[38;5;66;03m# propagate state to new modules added\u001b[39;00m\n\u001b[1;32m    342\u001b[0m \u001b[38;5;66;03m# TODO: there's more efficient ways to do this\u001b[39;00m\n\u001b[0;32m--> 343\u001b[0m \u001b[43mget_and_update_stateful_components\u001b[49m\u001b[43m(\u001b[49m\u001b[38;5;28;43mself\u001b[39;49m\u001b[43m,\u001b[49m\u001b[43m \u001b[49m\u001b[38;5;28;43mself\u001b[39;49m\u001b[38;5;241;43m.\u001b[39;49m\u001b[43mstate\u001b[49m\u001b[43m)\u001b[49m\n",
      "File \u001b[0;32m~/dev/rtfm/.venv/lib/python3.12/site-packages/llama_index/core/query_pipeline/query.py:193\u001b[0m, in \u001b[0;36mget_and_update_stateful_components\u001b[0;34m(query_component, state)\u001b[0m\n\u001b[1;32m    185\u001b[0m \u001b[38;5;28;01mdef\u001b[39;00m \u001b[38;5;21mget_and_update_stateful_components\u001b[39m(\n\u001b[1;32m    186\u001b[0m     query_component: QueryComponent, state: Dict[\u001b[38;5;28mstr\u001b[39m, Any]\n\u001b[1;32m    187\u001b[0m ) \u001b[38;5;241m-\u001b[39m\u001b[38;5;241m>\u001b[39m List[BaseStatefulComponent]:\n\u001b[1;32m    188\u001b[0m \u001b[38;5;250m    \u001b[39m\u001b[38;5;124;03m\"\"\"Get and update stateful components.\u001b[39;00m\n\u001b[1;32m    189\u001b[0m \n\u001b[1;32m    190\u001b[0m \u001b[38;5;124;03m    Assign all stateful components in the query component with the state.\u001b[39;00m\n\u001b[1;32m    191\u001b[0m \n\u001b[1;32m    192\u001b[0m \u001b[38;5;124;03m    \"\"\"\u001b[39;00m\n\u001b[0;32m--> 193\u001b[0m     stateful_components \u001b[38;5;241m=\u001b[39m \u001b[43mget_stateful_components\u001b[49m\u001b[43m(\u001b[49m\u001b[43mquery_component\u001b[49m\u001b[43m)\u001b[49m\n\u001b[1;32m    194\u001b[0m     update_stateful_components(stateful_components, state)\n\u001b[1;32m    195\u001b[0m     \u001b[38;5;28;01mreturn\u001b[39;00m stateful_components\n",
      "File \u001b[0;32m~/dev/rtfm/.venv/lib/python3.12/site-packages/llama_index/core/query_pipeline/query.py:170\u001b[0m, in \u001b[0;36mget_stateful_components\u001b[0;34m(query_component)\u001b[0m\n\u001b[1;32m    167\u001b[0m     \u001b[38;5;28;01mif\u001b[39;00m \u001b[38;5;28misinstance\u001b[39m(c, BaseStatefulComponent):\n\u001b[1;32m    168\u001b[0m         stateful_components\u001b[38;5;241m.\u001b[39mappend(cast(BaseStatefulComponent, c))\n\u001b[0;32m--> 170\u001b[0m     \u001b[38;5;28;01mif\u001b[39;00m \u001b[38;5;28mlen\u001b[39m(\u001b[43mc\u001b[49m\u001b[38;5;241;43m.\u001b[39;49m\u001b[43msub_query_components\u001b[49m) \u001b[38;5;241m>\u001b[39m \u001b[38;5;241m0\u001b[39m:\n\u001b[1;32m    171\u001b[0m         stateful_components\u001b[38;5;241m.\u001b[39mextend(get_stateful_components(c))\n\u001b[1;32m    173\u001b[0m \u001b[38;5;28;01mreturn\u001b[39;00m stateful_components\n",
      "\u001b[0;31mAttributeError\u001b[0m: 'ChainOfThought' object has no attribute 'sub_query_components'"
     ]
    }
   ],
   "source": [
    "dspy_module = dspy.ChainOfThought(GenerateAnswer)\n",
    "\n",
    "retriever_post = FnComponent(\n",
    "    lambda contexts: \"\\n\\n\".join([n.get_content() for n in contexts])\n",
    ")\n",
    "\n",
    "p = QP(verbose=True)\n",
    "p.add_modules(\n",
    "    {\n",
    "        \"input\": InputComponent(),\n",
    "        \"retriever\": retriever,\n",
    "        \"retriever_post\": retriever_post,\n",
    "        \"synthesizer\": dspy_module,\n",
    "    }\n",
    ")\n",
    "p.add_link(\"input\", \"retriever\")\n",
    "p.add_link(\"retriever\", \"retriever_post\")\n",
    "p.add_link(\"input\", \"synthesizer\", dest_key=\"query_str\")\n",
    "p.add_link(\"retriever_post\", \"synthesizer\", dest_key=\"context_str\")\n",
    "\n",
    "\n",
    "dspy_qp = LlamaIndexModule(p)"
   ]
  },
  {
   "cell_type": "code",
   "execution_count": 14,
   "metadata": {},
   "outputs": [
    {
     "name": "stdout",
     "output_type": "stream",
     "text": [
      "\u001b[1;3;38;2;155;135;227m> Running module input with input: \n",
      "query_str: What command should I send over USB to turn idle mode off?\n",
      "\n",
      "\u001b[0m\u001b[1;3;38;2;155;135;227m> Running module retriever with input: \n",
      "input: What command should I send over USB to turn idle mode off?\n",
      "\n",
      "\u001b[0m\u001b[1;3;38;2;155;135;227m> Running module retriever_post with input: \n",
      "contexts: [NodeWithScore(node=TextNode(id_='84e94928-1c22-4e0d-a43b-157276a7f46e', embedding=None, metadata={'file_path': '../../manuals/dmd/dlpu018j.pdf', 'file_name': 'dlpu018j.pdf', 'file_type': 'application...\n",
      "\n",
      "\u001b[0m\u001b[1;3;38;2;155;135;227m> Running module synthesizer with input: \n",
      "query_str: What command should I send over USB to turn idle mode off?\n",
      "context_str: ## 2.3.1.2 DMD Standby and Idle Modes\n",
      "\n",
      "When a DMD is idle and not actively projecting data, enable DMD Idle Mode or Standby Mode to assist in maximizing DMD lifetime.\n",
      "\n",
      "Enable Idle Mode during shorter ...\n",
      "\n",
      "\u001b[0m"
     ]
    }
   ],
   "source": [
    "output = dspy_qp(query_str=\"What command should I send over USB to turn idle mode off?\")"
   ]
  },
  {
   "cell_type": "code",
   "execution_count": null,
   "metadata": {},
   "outputs": [],
   "source": [
    "from dspy import Example\n",
    "\n",
    "train_examples = [\n",
    "    Example(query_str=\"What command should I send over USB to turn idle mode off?\", answer=\"0x00 0x00\"),\n",
    "    Example(query_str=\"What did the author do during his time at YC?\", answer=\"organizing a Summer Founders Program, funding startups, writing essays, working on a new version of Arc, creating Hacker News, and developing internal software for YC\")\n",
    "]\n",
    "\n",
    "train_examples = [t.with_inputs(\"query_str\") for t in train_examples]"
   ]
  }
 ],
 "metadata": {
  "kernelspec": {
   "display_name": ".venv",
   "language": "python",
   "name": "python3"
  },
  "language_info": {
   "codemirror_mode": {
    "name": "ipython",
    "version": 3
   },
   "file_extension": ".py",
   "mimetype": "text/x-python",
   "name": "python",
   "nbconvert_exporter": "python",
   "pygments_lexer": "ipython3",
   "version": "3.12.5"
  }
 },
 "nbformat": 4,
 "nbformat_minor": 2
}
