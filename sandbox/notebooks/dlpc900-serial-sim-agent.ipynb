{
 "cells": [
  {
   "cell_type": "code",
   "execution_count": 13,
   "metadata": {},
   "outputs": [],
   "source": [
    "import requests\n",
    "import os\n",
    "from glob import glob\n",
    "from pprint import pprint\n",
    "\n",
    "from dotenv import load_dotenv\n",
    "load_dotenv()\n",
    "\n",
    "import nest_asyncio\n",
    "nest_asyncio.apply()\n",
    "\n",
    "from llama_parse import LlamaParse\n",
    "from llama_index.core import (\n",
    "    VectorStoreIndex,\n",
    "    SimpleKeywordTableIndex,\n",
    "    SimpleDirectoryReader,\n",
    ")\n",
    "from llama_index.core import SummaryIndex, Settings\n",
    "from llama_index.core.schema import IndexNode\n",
    "from llama_index.core.tools import QueryEngineTool, ToolMetadata\n",
    "from llama_index.llms.openai import OpenAI\n",
    "from llama_index.embeddings.openai import OpenAIEmbedding\n",
    "from llama_index.core.callbacks import CallbackManager"
   ]
  },
  {
   "cell_type": "code",
   "execution_count": 19,
   "metadata": {},
   "outputs": [],
   "source": [
    "pty_docs_url = \"https://docs.python.org/3/library/pty.html\"\n",
    "pty_blog_example_url = \"https://allican.be/blog/2017/01/15/python-dummy-serial-port.html\"\n",
    "dlpc9000_docs_dirpath = \"../../manuals/dmd\""
   ]
  },
  {
   "cell_type": "code",
   "execution_count": 6,
   "metadata": {},
   "outputs": [],
   "source": [
    "# read info from pty docs website\n",
    "pty_docs_response = requests.get(pty_docs_url)\n",
    "with open(os.path.join(dlpc9000_docs_dirpath, \"pty_docs.html\"), \"w\") as f:\n",
    "    f.write(pty_docs_response.text)\n",
    "\n",
    "pty_blog_response = requests.get(pty_blog_example_url)\n",
    "with open(os.path.join(dlpc9000_docs_dirpath, \"pty_blog.html\"), \"w\") as f:\n",
    "    f.write(pty_blog_response.text)\n"
   ]
  },
  {
   "cell_type": "code",
   "execution_count": 26,
   "metadata": {},
   "outputs": [
    {
     "name": "stdout",
     "output_type": "stream",
     "text": [
      "Started parsing the file under job_id 138159ab-4a0d-4be3-baae-57f265f12b4d\n",
      "Started parsing the file under job_id 20930fac-5618-43f4-90a5-16066ebc2500\n",
      "Started parsing the file under job_id d8e062b4-b842-4690-82a1-da983efd31cd\n",
      "Started parsing the file under job_id 5e9ffadc-453d-4dfb-8ca6-f603a1c53829\n"
     ]
    }
   ],
   "source": [
    "# set up parser\n",
    "parser = LlamaParse(\n",
    "    result_type=\"markdown\"  # \"markdown\" and \"text\" are available\n",
    ")\n",
    "\n",
    "# use SimpleDirectoryReader to parse manuals\n",
    "dmd_docs = []\n",
    "for filepath in glob(os.path.join(dlpc9000_docs_dirpath, \"*\")):\n",
    "    file_extractor = {\".pdf\": parser, \".html\": parser}\n",
    "    dmd_docs.append(SimpleDirectoryReader(input_files=[filepath], file_extractor=file_extractor).load_data())\n"
   ]
  },
  {
   "cell_type": "code",
   "execution_count": 28,
   "metadata": {},
   "outputs": [],
   "source": [
    "Settings.llm = OpenAI(temperature=0, model=\"gpt-3.5-turbo\")\n",
    "Settings.embed_model = OpenAIEmbedding(model=\"text-embedding-ada-002\")"
   ]
  },
  {
   "cell_type": "code",
   "execution_count": 29,
   "metadata": {},
   "outputs": [],
   "source": [
    "# let's test getting a document summary that can be used to seed a QueryEngineTool\n",
    "# build index for first document\n",
    "docs_index = VectorStoreIndex.from_documents(dmd_docs[0])\n",
    "summary = docs_index.as_query_engine().query(\"Summarize this document so a tool built upon it knows how to use it.\")"
   ]
  },
  {
   "cell_type": "code",
   "execution_count": 35,
   "metadata": {},
   "outputs": [
    {
     "name": "stdout",
     "output_type": "stream",
     "text": [
      "('This document explains how to create dummy serial ports in Python using '\n",
      " 'pseudoterminals. It provides code examples that demonstrate setting up a '\n",
      " 'master and slave pair using the pty module. The script includes a listener '\n",
      " 'function that continuously listens for commands on the master device and '\n",
      " 'responds accordingly. The test_serial function initiates the listener thread '\n",
      " 'and establishes a pySerial connection to the slave, sending commands and '\n",
      " 'reading responses. The document serves as a guide on utilizing '\n",
      " 'pseudoterminals for creating dummy serial connections in Python.')\n"
     ]
    }
   ],
   "source": [
    "pprint(summary.response)"
   ]
  },
  {
   "cell_type": "code",
   "execution_count": 15,
   "metadata": {},
   "outputs": [],
   "source": [
    "# build index\n",
    "docs_index = VectorStoreIndex.from_documents(documents)"
   ]
  },
  {
   "cell_type": "code",
   "execution_count": 16,
   "metadata": {},
   "outputs": [],
   "source": [
    "# persist index\n",
    "docs_index.storage_context.persist(persist_dir=\"./storage/dmd_docs_index\")"
   ]
  },
  {
   "cell_type": "code",
   "execution_count": null,
   "metadata": {},
   "outputs": [],
   "source": [
    "dmd_docs_engine = docs_index.as_query_engine(similarity_top_k=3)"
   ]
  },
  {
   "cell_type": "code",
   "execution_count": null,
   "metadata": {},
   "outputs": [],
   "source": []
  }
 ],
 "metadata": {
  "kernelspec": {
   "display_name": ".venv",
   "language": "python",
   "name": "python3"
  },
  "language_info": {
   "codemirror_mode": {
    "name": "ipython",
    "version": 3
   },
   "file_extension": ".py",
   "mimetype": "text/x-python",
   "name": "python",
   "nbconvert_exporter": "python",
   "pygments_lexer": "ipython3",
   "version": "3.12.5"
  }
 },
 "nbformat": 4,
 "nbformat_minor": 2
}
