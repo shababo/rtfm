{
 "cells": [
  {
   "cell_type": "code",
   "execution_count": 1,
   "metadata": {},
   "outputs": [],
   "source": [
    "%load_ext autoreload\n",
    "%autoreload 2"
   ]
  },
  {
   "cell_type": "code",
   "execution_count": 15,
   "metadata": {},
   "outputs": [],
   "source": [
    "import requests\n",
    "import os\n",
    "from glob import glob\n",
    "from pprint import pprint\n",
    "\n",
    "from dotenv import load_dotenv\n",
    "load_dotenv()\n",
    "\n",
    "import nest_asyncio\n",
    "nest_asyncio.apply()\n",
    "\n",
    "from llama_parse import LlamaParse\n",
    "from llama_index.core import (\n",
    "    VectorStoreIndex,\n",
    "    SimpleDirectoryReader,\n",
    "    load_index_from_storage,\n",
    "    StorageContext\n",
    ")\n",
    "from llama_index.core import SummaryIndex, Settings\n",
    "from llama_index.core.tools import QueryEngineTool, ToolMetadata\n",
    "from llama_index.llms.openai import OpenAI\n",
    "from llama_index.embeddings.openai import OpenAIEmbedding\n",
    "from llama_index.core.node_parser import SentenceSplitter\n",
    "from llama_index.agent.openai import OpenAIAgent\n",
    "from llama_index.core.objects import ObjectIndex\n",
    "\n",
    "from Pycrafter6500.pycrafter6500 import dmd"
   ]
  },
  {
   "cell_type": "code",
   "execution_count": 3,
   "metadata": {},
   "outputs": [],
   "source": [
    "dlpc9000_docs_dirpath = \"../../manuals/dmd\""
   ]
  },
  {
   "cell_type": "code",
   "execution_count": 4,
   "metadata": {},
   "outputs": [],
   "source": [
    "dmd_docs = {\n",
    "    os.path.basename(pdf_doc).split(\".\")[0]: pdf_doc \n",
    "    for pdf_doc in glob(os.path.join(dlpc9000_docs_dirpath, \"*.pdf\"))\n",
    "}"
   ]
  },
  {
   "cell_type": "code",
   "execution_count": 5,
   "metadata": {},
   "outputs": [
    {
     "name": "stdout",
     "output_type": "stream",
     "text": [
      "Started parsing the file under job_id 86a8633a-c4bb-44f6-b1cf-170091722c71\n",
      "Started parsing the file under job_id a570114b-8fe5-49ad-bfbd-b5b6cc9bf620\n"
     ]
    }
   ],
   "source": [
    "# set up parser\n",
    "parser = LlamaParse(\n",
    "    result_type=\"markdown\"  # \"markdown\" and \"text\" are available\n",
    ")\n",
    "\n",
    "# use SimpleDirectoryReader to parse manuals\n",
    "dmd_parsed_docs = {}\n",
    "for doc_name, doc_path in dmd_docs.items():\n",
    "    file_extractor = {\".pdf\": parser, \".html\": parser}\n",
    "    dmd_parsed_docs[doc_name] = SimpleDirectoryReader(input_files=[doc_path], file_extractor=file_extractor).load_data()\n"
   ]
  },
  {
   "cell_type": "code",
   "execution_count": 6,
   "metadata": {},
   "outputs": [],
   "source": [
    "Settings.llm = OpenAI(temperature=0, model=\"gpt-3.5-turbo\")\n",
    "Settings.embed_model = OpenAIEmbedding(model=\"text-embedding-ada-002\")"
   ]
  },
  {
   "cell_type": "code",
   "execution_count": 82,
   "metadata": {},
   "outputs": [
    {
     "name": "stdout",
     "output_type": "stream",
     "text": [
      "Building agent for document dlpu018j\n"
     ]
    }
   ],
   "source": [
    "node_parser = SentenceSplitter()\n",
    "\n",
    "persist_dir = \"./storage/dlpc9000\"\n",
    "\n",
    "if not os.path.exists(persist_dir):\n",
    "    os.makedirs(persist_dir)\n",
    "\n",
    "# Build agents dictionary\n",
    "agents = {}\n",
    "query_engines = {}\n",
    "\n",
    "# this is for the baseline\n",
    "all_nodes = []\n",
    "\n",
    "# Build agents dictionary\n",
    "# for doc_name, doc in dmd_parsed_docs.items():\n",
    "\n",
    "doc_name = 'dlpu018j'\n",
    "doc = dmd_parsed_docs[doc_name]\n",
    "\n",
    "print(f\"Building agent for document {doc_name}\")\n",
    "\n",
    "nodes = node_parser.get_nodes_from_documents(doc)\n",
    "all_nodes.extend(nodes)\n",
    "\n",
    "doc_persist_dir = os.path.join(persist_dir, doc_name)\n",
    "if not os.path.exists(doc_persist_dir):\n",
    "    # build vector index\n",
    "    vector_index = VectorStoreIndex(nodes)\n",
    "    vector_index.storage_context.persist(\n",
    "        persist_dir=doc_persist_dir\n",
    "    )\n",
    "else:\n",
    "    vector_index = load_index_from_storage(\n",
    "        StorageContext.from_defaults(persist_dir=doc_persist_dir),\n",
    "    )\n",
    "\n",
    "# build summary index\n",
    "summary_index = SummaryIndex(nodes)\n",
    "# define query engines\n",
    "vector_query_engine = vector_index.as_query_engine(llm=Settings.llm)\n",
    "summary_query_engine = summary_index.as_query_engine(llm=Settings.llm)\n",
    "\n",
    "# define tools\n",
    "query_engine_tools = [\n",
    "    QueryEngineTool(\n",
    "        query_engine=vector_query_engine,\n",
    "        metadata=ToolMetadata(\n",
    "            name=\"vector_tool\",\n",
    "            description=,\n",
    "        ),\n",
    "    ),\n",
    "    # QueryEngineTool(\n",
    "    #     query_engine=summary_query_engine,\n",
    "    #     metadata=ToolMetadata(\n",
    "    #         name=\"summary_tool\",\n",
    "    #         description=summary_query_engine.query(\"Summarize this document so a tool built upon it knows how to use it.\").response,\n",
    "    #     ),\n",
    "    # ),\n",
    "]\n",
    "\n",
    "# build agent\n",
    "function_llm = OpenAI(model=\"gpt-4o\")\n",
    "agent = OpenAIAgent.from_tools(\n",
    "    query_engine_tools,\n",
    "    llm=function_llm,\n",
    "    verbose=True,\n",
    "    system_prompt=f\"\"\"\\\n",
    "            This tools has access to information about communicating with the DLPC900 (aka DLPC9000EVM) board over serial USB. \\\n",
    "            It can go through this document and understand how to format read and write commands to the board. \\\n",
    "            It can answer questions about how to format serial commands for different board commands. \\\n",
    "            It can can also answer questions going in the other direction, given a board command, it will provide the serial command.\n",
    "            \"\"\",\n",
    ")\n",
    "\n",
    "agents[doc_name] = agent\n",
    "query_engines[doc_name] = vector_index.as_query_engine(\n",
    "    similarity_top_k=2\n",
    ")"
   ]
  },
  {
   "cell_type": "code",
   "execution_count": 84,
   "metadata": {},
   "outputs": [
    {
     "name": "stdout",
     "output_type": "stream",
     "text": [
      "Added user message to memory: What command should I send over USB to set the device to idle?\n",
      "=== Calling Function ===\n",
      "Calling function: vector_tool with args: {\"input\":\"set the device to idle\"}\n",
      "Got output: To set the device to idle, enable Idle Mode. Idle Mode is an operational mode where the entire mirror array is continuously flipped periodically between the on and off states with a 50/50 duty cycle pattern sequence. When Idle Mode is enabled, the LED Enable outputs are disabled to prevent illumination on the DMD. Remember that any pattern sequences must first be stopped before enabling Idle Mode, and it can be enabled in any operating mode except for Video Mode.\n",
      "========================\n",
      "\n",
      "('To set the device to idle, you need to enable Idle Mode. Here is the command '\n",
      " 'to send over USB:\\n'\n",
      " '\\n'\n",
      " '```\\n'\n",
      " '0x1A 0x1B 0x24 0x00 0x01 0x00\\n'\n",
      " '```\\n'\n",
      " '\\n'\n",
      " 'This command enables Idle Mode, which flips the entire mirror array '\n",
      " 'periodically between the on and off states with a 50/50 duty cycle pattern '\n",
      " 'sequence. Note that any pattern sequences must be stopped before enabling '\n",
      " 'Idle Mode, and it can be enabled in any operating mode except for Video '\n",
      " 'Mode.')\n"
     ]
    }
   ],
   "source": [
    "response = agent.query(\"What command should I send over USB to set the device to idle?\").response\n",
    "pprint(response)"
   ]
  },
  {
   "cell_type": "code",
   "execution_count": 85,
   "metadata": {},
   "outputs": [
    {
     "name": "stdout",
     "output_type": "stream",
     "text": [
      "Added user message to memory: What command should I send over USB to turn idle mode off?\n",
      "=== Calling Function ===\n",
      "Calling function: vector_tool with args: {\"input\":\"turn idle mode off\"}\n",
      "Got output: To turn off Idle Mode, any pattern sequences must first be stopped. Once the pattern sequences are stopped, Idle Mode can be disabled.\n",
      "========================\n",
      "\n",
      "('To turn off Idle Mode, you need to follow these steps:\\n'\n",
      " '\\n'\n",
      " '1. Stop any pattern sequences that are currently running.\\n'\n",
      " '2. Disable Idle Mode.\\n'\n",
      " '\\n'\n",
      " 'Here are the commands you need to send over USB:\\n'\n",
      " '\\n'\n",
      " '1. **Stop Pattern Sequence:**\\n'\n",
      " '   - Command: `0x1A34`\\n'\n",
      " '   - Data: `0x00`\\n'\n",
      " '\\n'\n",
      " '2. **Disable Idle Mode:**\\n'\n",
      " '   - Command: `0x1A35`\\n'\n",
      " '   - Data: `0x00`\\n'\n",
      " '\\n'\n",
      " 'Make sure to send these commands in the specified order to successfully turn '\n",
      " 'off Idle Mode.')\n"
     ]
    }
   ],
   "source": [
    "response = agent.query(\"What command should I send over USB to turn idle mode off?\").response\n",
    "pprint(response)"
   ]
  },
  {
   "cell_type": "code",
   "execution_count": 86,
   "metadata": {},
   "outputs": [
    {
     "name": "stdout",
     "output_type": "stream",
     "text": [
      "Added user message to memory: What command should I send over USB to turn idle mode on?\n",
      "=== Calling Function ===\n",
      "Calling function: vector_tool with args: {\"input\":\"turn idle mode on\"}\n",
      "Got output: To turn Idle Mode on, any pattern sequences must first be stopped. Once Idle Mode is enabled, the entire mirror array will continuously flip periodically between the on and off states with a 50/50 duty cycle pattern sequence. Additionally, when Idle Mode is enabled, the LED Enable outputs are disabled to prevent illumination on the DMD.\n",
      "========================\n",
      "\n",
      "('To turn Idle Mode on, you need to ensure that any pattern sequences are '\n",
      " 'stopped first. Once Idle Mode is enabled, the mirror array will continuously '\n",
      " 'flip between the on and off states with a 50/50 duty cycle pattern sequence, '\n",
      " 'and the LED Enable outputs will be disabled to prevent illumination on the '\n",
      " 'DMD.\\n'\n",
      " '\\n'\n",
      " 'Here is the command to send over USB to turn Idle Mode on:\\n'\n",
      " '\\n'\n",
      " '```\\n'\n",
      " '0x1A 0x34 0x00\\n'\n",
      " '```\\n'\n",
      " '\\n'\n",
      " 'This command will enable Idle Mode on the DLPC900.')\n"
     ]
    }
   ],
   "source": [
    "response = agent.query(\"What command should I send over USB to turn idle mode on?\").response\n",
    "pprint(response)"
   ]
  },
  {
   "cell_type": "code",
   "execution_count": null,
   "metadata": {},
   "outputs": [],
   "source": [
    "[['0x40', '0x0', '0x3', '0x0', '0x1', '0x2', '0x1']]"
   ]
  },
  {
   "cell_type": "code",
   "execution_count": 8,
   "metadata": {},
   "outputs": [],
   "source": [
    "# define tool for each document agent\n",
    "all_tools = []\n",
    "for doc_name, _ in dmd_parsed_docs.items():\n",
    "    doc_summary = f\"This tool is to aid in tasks like the following: {vector_query_engine.query('Finish the last sentence in this message, but don''t include the prompt or the beginning of the sentence. Be as specific as possible but not verbose. This document is useful for accomplishing tasks like the following ').response}\"\n",
    "    doc_tool = QueryEngineTool(\n",
    "        query_engine=agents[doc_name],\n",
    "        metadata=ToolMetadata(\n",
    "            name=f\"tool_{doc_name}\",\n",
    "            description=doc_summary,\n",
    "        ),\n",
    "    )\n",
    "    all_tools.append(doc_tool)"
   ]
  },
  {
   "cell_type": "code",
   "execution_count": 9,
   "metadata": {},
   "outputs": [],
   "source": [
    "obj_index = ObjectIndex.from_objects(\n",
    "    all_tools,\n",
    "    index_cls=VectorStoreIndex,\n",
    ") "
   ]
  },
  {
   "cell_type": "code",
   "execution_count": 77,
   "metadata": {},
   "outputs": [],
   "source": [
    "dlp_serial_cmd_interpreter_agent = OpenAIAgent.from_tools(\n",
    "    tool_retriever=obj_index.as_retriever(similarity_top_k=10),\n",
    "    system_prompt=f\"\"\" \\\n",
    "You are an agent that provides information about commands that are used to control the DLPC900 (aka DLPC9000EVM). You will provide information about formating and specifiying commands over USB. If you are asked about specific commands, the expected format will be a python list of hexadecimal bytes values. ALWAYS BE AS SPECIFIC AS POSSIBLE!! \\\n",
    "You have tools that reference the necessary documentation to interpret the incomding commands. One document is a general user guide and the other is the programmer's guide which contains all of the command definitions. \\\n",
    "Please always use the tools provided to answer a question. Do not rely on prior knowledge. \\\n",
    "\n",
    "\"\"\",\n",
    "    verbose=True,\n",
    ")"
   ]
  },
  {
   "cell_type": "code",
   "execution_count": 16,
   "metadata": {},
   "outputs": [
    {
     "name": "stderr",
     "output_type": "stream",
     "text": [
      "/Users/loyalshababo/dev/rtfm/Pycrafter6500/pycrafter6500.py:41: UserWarning: No DLP found. Simulating Device.\n",
      "  warnings.warning(\"No DLP found. Simulating Device.\")\n"
     ]
    }
   ],
   "source": [
    "dmd_device = dmd()"
   ]
  },
  {
   "cell_type": "code",
   "execution_count": 54,
   "metadata": {},
   "outputs": [
    {
     "name": "stdout",
     "output_type": "stream",
     "text": [
      "[['0x40', '0x0', '0x3', '0x0', '0x1', '0x2', '0x0']]\n"
     ]
    }
   ],
   "source": [
    "dmd_device.idle_off()"
   ]
  },
  {
   "cell_type": "code",
   "execution_count": 55,
   "metadata": {},
   "outputs": [
    {
     "name": "stdout",
     "output_type": "stream",
     "text": [
      "[['0x40', '0x0', '0x3', '0x0', '0x1', '0x2', '0x1']]\n"
     ]
    }
   ],
   "source": [
    "dmd_device.idle_on()"
   ]
  },
  {
   "cell_type": "code",
   "execution_count": 78,
   "metadata": {},
   "outputs": [
    {
     "data": {
      "text/plain": [
       "AgentState(task_dict={})"
      ]
     },
     "execution_count": 78,
     "metadata": {},
     "output_type": "execute_result"
    }
   ],
   "source": [
    "dlp_serial_cmd_interpreter_agent.state"
   ]
  },
  {
   "cell_type": "code",
   "execution_count": 73,
   "metadata": {},
   "outputs": [
    {
     "ename": "KeyError",
     "evalue": "'2258a15c-dc74-40f2-8cd8-46e057c8ff1f'",
     "output_type": "error",
     "traceback": [
      "\u001b[0;31m---------------------------------------------------------------------------\u001b[0m",
      "\u001b[0;31mKeyError\u001b[0m                                  Traceback (most recent call last)",
      "Cell \u001b[0;32mIn[73], line 1\u001b[0m\n\u001b[0;32m----> 1\u001b[0m dlp_serial_cmd_interpreter_agent\u001b[38;5;241m.\u001b[39mdelete_task(task_id \u001b[38;5;241m=\u001b[39m \u001b[43mdlp_serial_cmd_interpreter_agent\u001b[49m\u001b[38;5;241;43m.\u001b[39;49m\u001b[43mstate\u001b[49m\u001b[38;5;241;43m.\u001b[39;49m\u001b[43mtask_dict\u001b[49m\u001b[43m[\u001b[49m\u001b[38;5;124;43m'\u001b[39;49m\u001b[38;5;124;43m2258a15c-dc74-40f2-8cd8-46e057c8ff1f\u001b[39;49m\u001b[38;5;124;43m'\u001b[39;49m\u001b[43m]\u001b[49m\u001b[38;5;241m.\u001b[39mtask\u001b[38;5;241m.\u001b[39mtask_id)\n",
      "\u001b[0;31mKeyError\u001b[0m: '2258a15c-dc74-40f2-8cd8-46e057c8ff1f'"
     ]
    }
   ],
   "source": [
    "dlp_serial_cmd_interpreter_agent.delete_task(task_id = dlp_serial_cmd_interpreter_agent.state.task_dict['2258a15c-dc74-40f2-8cd8-46e057c8ff1f'].task.task_id)"
   ]
  },
  {
   "cell_type": "code",
   "execution_count": 75,
   "metadata": {},
   "outputs": [
    {
     "data": {
      "text/plain": [
       "AgentState(task_dict={})"
      ]
     },
     "execution_count": 75,
     "metadata": {},
     "output_type": "execute_result"
    }
   ],
   "source": [
    "dlp_serial_cmd_interpreter_agent.statedd"
   ]
  },
  {
   "cell_type": "code",
   "execution_count": 80,
   "metadata": {},
   "outputs": [
    {
     "name": "stdout",
     "output_type": "stream",
     "text": [
      "Added user message to memory: What command should I send over USB to set the device to idle?\n",
      "=== Calling Function ===\n",
      "Calling function: tool_dlpu018j with args: {\"input\":\"Get the command to set the device to idle\"}\n",
      "Added user message to memory: Get the command to set the device to idle\n",
      "=== Calling Function ===\n",
      "Calling function: summary_tool with args: {\"input\":\"command to set the device to idle\"}\n",
      "Got output: To set the device to idle, use the DMD Idle Mode command.\n",
      "========================\n",
      "\n",
      "Got output: To set the device to idle, you should use the **DMD Idle Mode** command.\n",
      "========================\n",
      "\n"
     ]
    }
   ],
   "source": [
    "response = dlp_serial_cmd_interpreter_agent.query(\"What command should I send over USB to set the device to idle?\")"
   ]
  },
  {
   "cell_type": "code",
   "execution_count": 68,
   "metadata": {},
   "outputs": [],
   "source": [
    "bytes = \"0x1A 0x00 0x00 0x00 0x00 0x00 0x00 0x00 0x00 0x00 0x00 0x00 0x00 0x00 0x00 0x00 0x00 0x00 0x00 0x00 0x00 0x00 0x00 0x00 0x00 0x00 0x00 0x00 0x00 0x00 0x00 0x00 0x00 0x00 0x00 0x00 0x00 0x00 0x00 0x00 0x00 0x00 0x00 0x00 0x00 0x00 0x00 0x00 0x00 0x00 0x00 0x00 0x00 0x00 0x00 0x00 0x00 0x00 0x00 0x00 0x00 0x00 0x00 0x00 0x00 0x00 0x00 0x00 0x00 0x00 0x00 0x00 0x00 0x00 0x00 0x00 0x00 0x00 0x00 0x00 0x00 0x00 0x00 0x00 0x00 0x00 0x00 0x00 0x00 0x00 0x00 0x00 0x00 0x00 0x00 0x00 0x00 0x00 0x00 0x00 0x00\".split(\" \")"
   ]
  },
  {
   "cell_type": "code",
   "execution_count": 70,
   "metadata": {},
   "outputs": [
    {
     "data": {
      "text/plain": [
       "101"
      ]
     },
     "execution_count": 70,
     "metadata": {},
     "output_type": "execute_result"
    }
   ],
   "source": [
    "len(bytes)"
   ]
  },
  {
   "cell_type": "code",
   "execution_count": 42,
   "metadata": {},
   "outputs": [
    {
     "name": "stdout",
     "output_type": "stream",
     "text": [
      "Added user message to memory: This is a list of values that would be sent to the DLP900. What command is being given? `['0x40', '0x0', '0x3', '0x0', '0x1', '0x2', '0x0', '0x0', '0x0', '0x0', '0x0', '0x0', '0x0', '0x0', '0x0', '0x0', '0x0', '0x0', '0x0', '0x0', '0x0', '0x0', '0x0', '0x0', '0x0', '0x0', '0x0', '0x0', '0x0', '0x0', '0x0', '0x0', '0x0', '0x0', '0x0', '0x0', '0x0', '0x0', '0x0', '0x0', '0x0', '0x0', '0x0', '0x0', '0x0', '0x0', '0x0', '0x0', '0x0', '0x0', '0x0', '0x0', '0x0', '0x0', '0x0', '0x0', '0x0', '0x0', '0x0', '0x0', '0x0', '0x0', '0x0', '0x0']`\n",
      "=== Calling Function ===\n",
      "Calling function: tool_dlpu018j with args: {\"input\":\"0x40 0x0 0x3 0x0 0x1 0x2 0x0 0x0 0x0 0x0 0x0 0x0 0x0 0x0 0x0 0x0 0x0 0x0 0x0 0x0 0x0 0x0 0x0 0x0 0x0 0x0 0x0 0x0 0x0 0x0 0x0 0x0 0x0 0x0 0x0 0x0 0x0 0x0 0x0 0x0 0x0 0x0 0x0 0x0 0x0 0x0 0x0 0x0 0x0 0x0 0x0 0x0 0x0 0x0 0x0 0x0 0x0 0x0 0x0 0x0 0x0\"}\n",
      "Added user message to memory: 0x40 0x0 0x3 0x0 0x1 0x2 0x0 0x0 0x0 0x0 0x0 0x0 0x0 0x0 0x0 0x0 0x0 0x0 0x0 0x0 0x0 0x0 0x0 0x0 0x0 0x0 0x0 0x0 0x0 0x0 0x0 0x0 0x0 0x0 0x0 0x0 0x0 0x0 0x0 0x0 0x0 0x0 0x0 0x0 0x0 0x0 0x0 0x0 0x0 0x0 0x0 0x0 0x0 0x0 0x0 0x0 0x0 0x0 0x0 0x0 0x0\n",
      "=== Calling Function ===\n",
      "Calling function: summary_tool with args: {\"input\":\"0x40 0x0 0x3 0x0 0x1 0x2 0x0 0x0 0x0 0x0 0x0 0x0 0x0 0x0 0x0 0x0 0x0 0x0 0x0 0x0 0x0 0x0 0x0 0x0 0x0 0x0 0x0 0x0 0x0 0x0 0x0 0x0 0x0 0x0 0x0 0x0 0x0 0x0 0x0 0x0 0x0 0x0 0x0 0x0 0x0 0x0 0x0 0x0 0x0 0x0 0x0 0x0 0x0 0x0 0x0 0x0 0x0 0x0 0x0 0x0 0x0\"}\n",
      "Got output: Error: Request timed out.\n",
      "========================\n",
      "\n",
      "=== Calling Function ===\n",
      "Calling function: vector_tool with args: {\"input\":\"0x40 0x0 0x3 0x0 0x1 0x2 0x0 0x0 0x0 0x0 0x0 0x0 0x0 0x0 0x0 0x0 0x0 0x0 0x0 0x0 0x0 0x0 0x0 0x0 0x0 0x0 0x0 0x0 0x0 0x0 0x0 0x0 0x0 0x0 0x0 0x0 0x0 0x0 0x0 0x0 0x0 0x0 0x0 0x0 0x0 0x0 0x0 0x0 0x0 0x0 0x0 0x0 0x0 0x0 0x0 0x0 0x0 0x0 0x0 0x0 0x0\"}\n",
      "Got output: The provided sequence corresponds to the expanded data in the RLE Compression Example.\n",
      "========================\n",
      "\n",
      "Got output: The provided sequence corresponds to the expanded data in the Run-Length Encoding (RLE) Compression Example. This means that the sequence represents data that has been decompressed from an RLE-compressed format. If you need further details or have additional questions about this data, feel free to ask!\n",
      "========================\n",
      "\n"
     ]
    }
   ],
   "source": [
    "response = dlp_serial_cmd_interpreter_agent.query(\"This is a list of values that would be sent to the DLP900. What command is being given? `['0x40', '0x0', '0x3', '0x0', '0x1', '0x2', '0x0', '0x0', '0x0', '0x0', '0x0', '0x0', '0x0', '0x0', '0x0', '0x0', '0x0', '0x0', '0x0', '0x0', '0x0', '0x0', '0x0', '0x0', '0x0', '0x0', '0x0', '0x0', '0x0', '0x0', '0x0', '0x0', '0x0', '0x0', '0x0', '0x0', '0x0', '0x0', '0x0', '0x0', '0x0', '0x0', '0x0', '0x0', '0x0', '0x0', '0x0', '0x0', '0x0', '0x0', '0x0', '0x0', '0x0', '0x0', '0x0', '0x0', '0x0', '0x0', '0x0', '0x0', '0x0', '0x0', '0x0', '0x0']`\")"
   ]
  },
  {
   "cell_type": "code",
   "execution_count": 43,
   "metadata": {},
   "outputs": [
    {
     "name": "stdout",
     "output_type": "stream",
     "text": [
      "Response(response='The command being given is related to the expanded data in '\n",
      "                  'the Run-Length Encoding (RLE) Compression Example. This '\n",
      "                  'sequence represents data that has been decompressed from an '\n",
      "                  'RLE-compressed format. If you have any further questions or '\n",
      "                  'need more details about this data, feel free to ask!',\n",
      "         source_nodes=[NodeWithScore(node=TextNode(id_='e7b072e5-b19f-42f7-ad3e-eac7f2b7d122', embedding=None, metadata={'file_path': '../../manuals/dmd/dlpu018j.pdf', 'file_name': 'dlpu018j.pdf', 'file_type': 'application/pdf', 'file_size': 1728714, 'creation_date': '2024-09-01', 'last_modified_date': '2024-09-01'}, excluded_embed_metadata_keys=['file_name', 'file_type', 'file_size', 'creation_date', 'last_modified_date', 'last_accessed_date'], excluded_llm_metadata_keys=['file_name', 'file_type', 'file_size', 'creation_date', 'last_modified_date', 'last_accessed_date'], relationships={<NodeRelationship.SOURCE: '1'>: RelatedNodeInfo(node_id='9a7cdc29-4e2d-456c-8244-0f159c80d1ad', node_type=<ObjectType.DOCUMENT: '4'>, metadata={'file_path': '../../manuals/dmd/dlpu018j.pdf', 'file_name': 'dlpu018j.pdf', 'file_type': 'application/pdf', 'file_size': 1728714, 'creation_date': '2024-09-01', 'last_modified_date': '2024-09-01'}, hash='4c4389a14da8576c68b5e9ea91166c56dfbe80d4aa8a8ad36a4fcf004f83b6b7')}, text='# 2.4.3.2.1 Enhanced RLE Compression Example\\n\\n|COMPRESSED DATA (HEX)|EXPANDED DATA (HEX)|\\n|---|---|\\n|03 040506|040506 040506 040506|\\n|05 777777|777777 777777 777777 777777 777777|\\n|00 03 040506 070809 0A0B0C|040506 070809 0A0B0C|\\n|82 01 789ABC|789ABC 789ABC … (513 times)|\\n|00 00|(End of line)(1)|\\n|01 010203|010203|\\n|00 01 09|040506 040506 777777 777777 777777 777777 777777 040506 070809|\\n|00 01 00|(End-of-Image command)|\\n\\n(1) End-of-Line Command and End-of-Line Padding is optional for enhanced RLE compression.\\n\\n# 2.4.3.2.2 End of Image Padding\\n\\nNote: End all padding on a 4 byte boundary.\\n\\n# 2.4.4 Pattern Display Commands\\n\\nIn pattern display modes 0, 2, and 3, the DLPC900 supports 1-, 2-, 3-, 4-, 5-, 6-, 7-, and 8- bit images streamed through the 24-bit RGB parallel interface, pre-stored patterns in the flash memory, or dynamically with Pattern On-The-Fly. The following commands are only supported in display modes 1, 2, and 3:\\n\\n- Trigger Commands\\n- LED Enable Delay Commands\\n- Pattern Display Commands\\n- Pattern On-The-Fly Commands\\n\\nNote: If the pattern display is already active, it must be stopped using I2C command 0xE5 or USB 0x1A24 before calling these commands.\\n\\n# 2.4.4.1 Trigger Commands\\n\\nTo synchronize a camera with the displayed patterns, the DLPC900 supports three pattern modes:\\n\\n- Video Pattern Mode (applicable when pattern data from RGB parallel port):\\n- VSYNC used as trigger input.\\n- TRIG_OUT_1 frames the exposure time of the pattern.\\n- TRIG_OUT_2: marks the beginning of each pattern start with 20-μs pulse and can be selectively disabled for individual patterns.\\n- Pre-Stored Pattern Mode (applicable for pattern data from flash):\\n- TRIG_IN_1 advances to next pattern, while TRIG_IN_2 starts and pauses the pattern sequence.\\n- TRIG_OUT_1 frames the exposure time of the pattern.\\n- TRIG_OUT_2: marks the beginning of each pattern start with 20-μs pulse and can be selectively disabled for individual patterns.\\n- Pattern On-The-Fly Mode (patterns downloaded over USB/I2C):\\n- Triggers are the same as Pre-Stored Pattern Mode.\\n\\nCopyright © 2024 Texas Instruments Incorporated', mimetype='text/plain', start_char_idx=0, end_char_idx=2105, text_template='{metadata_str}\\n\\n{content}', metadata_template='{key}: {value}', metadata_seperator='\\n'), score=0.786865498447521),\n",
      "                       NodeWithScore(node=TextNode(id_='53400366-0262-4ff4-bb18-2c3fb49a7937', embedding=None, metadata={'file_path': '../../manuals/dmd/dlpu018j.pdf', 'file_name': 'dlpu018j.pdf', 'file_type': 'application/pdf', 'file_size': 1728714, 'creation_date': '2024-09-01', 'last_modified_date': '2024-09-01'}, excluded_embed_metadata_keys=['file_name', 'file_type', 'file_size', 'creation_date', 'last_modified_date', 'last_accessed_date'], excluded_llm_metadata_keys=['file_name', 'file_type', 'file_size', 'creation_date', 'last_modified_date', 'last_accessed_date'], relationships={<NodeRelationship.SOURCE: '1'>: RelatedNodeInfo(node_id='5ee0c80c-457f-4674-ae06-eda6fe9857b3', node_type=<ObjectType.DOCUMENT: '4'>, metadata={'file_path': '../../manuals/dmd/dlpu018j.pdf', 'file_name': 'dlpu018j.pdf', 'file_type': 'application/pdf', 'file_size': 1728714, 'creation_date': '2024-09-01', 'last_modified_date': '2024-09-01'}, hash='3e69057e01dcb00ac64b158be551f170ea0762653f5e5ac987785509555dc22d')}, text='# DLPC900 Control Commands\\n\\n# 2.4.3.1.1 RLE Compression Example\\n\\nTable 2-114 shows the hexadecimal values of a 2-line packed 24-bit compressed bitmap. The compressed data on the left is stored sequentially in Flash memory. The DLPC900 firmware automatically expands the data as shown on the right which is stored in internal memory.\\n\\n**Table 2-114. RLE Compression Example**\\n|COMPRESSED DATA (HEX)|EXPANDED DATA (HEX)|\\n|---|---|\\n|03 040506|040506 040506 040506|\\n|05 777777|777777 777777 777777 777777 777777|\\n|00 03 040506 070809 0A0B0C|040506 070809 0A0B0C|\\n|02 789ABC|789ABC 789ABC|\\n|00 00|(End-of-Line Command)|\\n|00 00 00|00 00 00 00 00 00 00 00 00 (End-of-Line Padding)|\\n|07 1D1E1F|1D1E1F 1D1E1F 1D1E1F 1D1E1F 1D1E1F 1D1E1F 1D1E1F|\\n|06 212223|212223 212223 212223 212223 212223 212223|\\n|00 01|(End-of-File command)|\\n\\n# 2.4.3.2 Enhanced Run-Length Encoding\\n\\nTo achieve higher compression ratios, this compression format takes advantage of the similarities from line-to-line and uses one or two bytes to encode the length. Table 2-115 defines the RLE Control Bytes recognized by the DLPC900. The DLPC900 firmware automatically decompresses the image when operating in Pre-Stored Pattern Mode or Pattern On-The-Fly Mode.\\n\\n**Table 2-115. Enhanced RLE Control Bytes**\\n|CONTROL BYTE 1|CONTROL BYTE 2|CONTROL BYTE 3|RESULT|\\n|---|---|---|---|\\n|0|0|n/a|End of Line|\\n|0|1|0|End of Image|\\n|0|1|n|Copy n pixels from previous line|\\n|0|n > 1|n/a|n uncompressed sequence of pixels|\\n|n > 1|n/a|n/a|Repeat following pixel n times|\\n\\nIf n is &lt; 128 then encode it with 1 byte.\\n\\nIf n is &gt;= 128 then encode it with 2 bytes in the following manner:\\n\\n•   byte 0 = ( n and 0x7F ) | 0x80\\n\\n•   byte 1 = ( n >> 7)\\n\\n•   Example: number 0x1234 is encoded as 0xB4, 0x24\\n\\nDLPU018J – OCTOBER 2014 – REVISED JUNE 2024\\n\\nCopyright © 2024 Texas Instruments Incorporated', mimetype='text/plain', start_char_idx=0, end_char_idx=1842, text_template='{metadata_str}\\n\\n{content}', metadata_template='{key}: {value}', metadata_seperator='\\n'), score=0.7866537472038293)],\n",
      "         metadata=None)\n"
     ]
    }
   ],
   "source": [
    "pprint(response)"
   ]
  },
  {
   "cell_type": "code",
   "execution_count": 81,
   "metadata": {},
   "outputs": [
    {
     "name": "stdout",
     "output_type": "stream",
     "text": [
      "ToolMetadata(description='This tool is to aid in tasks like the following: '\n",
      "                         'This document is useful for accomplishing tasks like '\n",
      "                         'creating and executing batch files to configure '\n",
      "                         'settings on the DLP LightCrafter 6500 and 9000.',\n",
      "             name='tool_dlpu018j',\n",
      "             fn_schema=<class 'llama_index.core.tools.types.DefaultToolFnSchema'>,\n",
      "             return_direct=False)\n",
      "ToolMetadata(description='This tool is to aid in tasks like the following: '\n",
      "                         'This document is useful for accomplishing tasks like '\n",
      "                         'creating and executing batch files to configure '\n",
      "                         'settings on the DLP LightCrafter 6500 and 9000.',\n",
      "             name='tool_dlpu028d',\n",
      "             fn_schema=<class 'llama_index.core.tools.types.DefaultToolFnSchema'>,\n",
      "             return_direct=False)\n"
     ]
    }
   ],
   "source": [
    "for tool in all_tools:\n",
    "    pprint(tool.metadata)"
   ]
  }
 ],
 "metadata": {
  "kernelspec": {
   "display_name": ".venv",
   "language": "python",
   "name": "python3"
  },
  "language_info": {
   "codemirror_mode": {
    "name": "ipython",
    "version": 3
   },
   "file_extension": ".py",
   "mimetype": "text/x-python",
   "name": "python",
   "nbconvert_exporter": "python",
   "pygments_lexer": "ipython3",
   "version": "3.12.5"
  }
 },
 "nbformat": 4,
 "nbformat_minor": 2
}
